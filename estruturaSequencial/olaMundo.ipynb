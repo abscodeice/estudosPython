{
  "nbformat": 4,
  "nbformat_minor": 0,
  "metadata": {
    "colab": {
      "provenance": [],
      "authorship_tag": "ABX9TyPw0i7UjWaOry3pYFXWv+Eo",
      "include_colab_link": true
    },
    "kernelspec": {
      "name": "python3",
      "display_name": "Python 3"
    },
    "language_info": {
      "name": "python"
    }
  },
  "cells": [
    {
      "cell_type": "markdown",
      "metadata": {
        "id": "view-in-github",
        "colab_type": "text"
      },
      "source": [
        "<a href=\"https://colab.research.google.com/github/abscodeice/estudosPython/blob/main/estruturaSequencial/olaMundo.ipynb\" target=\"_parent\"><img src=\"https://colab.research.google.com/assets/colab-badge.svg\" alt=\"Open In Colab\"/></a>"
      ]
    },
    {
      "cell_type": "markdown",
      "source": [
        "# Faça um programa que mostre a mensagem \"Olá, Mundo.\" na tela."
      ],
      "metadata": {
        "id": "UOcLmfsHFYOj"
      }
    },
    {
      "cell_type": "code",
      "source": [
        "print(\"Olá, Mundo.\")"
      ],
      "metadata": {
        "colab": {
          "base_uri": "https://localhost:8080/"
        },
        "id": "MzMQl5v4FL6_",
        "outputId": "27f9e063-3f6a-4bf8-c093-494c64ea3a98"
      },
      "execution_count": 1,
      "outputs": [
        {
          "output_type": "stream",
          "name": "stdout",
          "text": [
            "Olá, Mundo.\n"
          ]
        }
      ]
    }
  ]
}